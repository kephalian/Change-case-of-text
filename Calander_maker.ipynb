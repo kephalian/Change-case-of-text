{
 "cells": [
  {
   "cell_type": "markdown",
   "metadata": {},
   "source": [
    "---\n",
    "# Calendar generator\n",
    "### Dependency\n"
   ]
  },
  {
   "cell_type": "code",
   "execution_count": 1,
   "metadata": {},
   "outputs": [],
   "source": [
    "import calendar, sys\n",
    "import pyperclip\n",
    "from calendar import TextCalendar\n",
    "import PySimpleGUI as sg"
   ]
  },
  {
   "cell_type": "markdown",
   "metadata": {},
   "source": [
    "Nice theme to GUI"
   ]
  },
  {
   "cell_type": "code",
   "execution_count": 2,
   "metadata": {},
   "outputs": [
    {
     "data": {
      "text/plain": [
       "'LightPurple'"
      ]
     },
     "execution_count": 2,
     "metadata": {},
     "output_type": "execute_result"
    }
   ],
   "source": [
    "sg.theme('LightPurple')"
   ]
  },
  {
   "cell_type": "markdown",
   "metadata": {},
   "source": [
    "Default GUI layout defined here"
   ]
  },
  {
   "cell_type": "code",
   "execution_count": 3,
   "metadata": {},
   "outputs": [],
   "source": [
    "layout=[\n",
    "    [sg.Text('Dr Santhosh Rajamani\\'s Calendar Maker'),],\n",
    "    [sg.Text('                     Enter Year like 1765',size=(25,1)\n",
    "    ),sg.Input('1989',size=(10,1),key='-YR-')],\n",
    "\n",
    "    [sg.Text('Enter Month number November', size=(25,1)),\n",
    "     sg.Input('11',size=(10,1),key='-MON-')],\n",
    "    [sg.Multiline(size=(45,15), key='-OUT-'),],\n",
    "    [sg.Button('Copy',key='-COPY-', size=(8,1)),\n",
    "    sg.Button('Clear',key='-CLEAR-',size=(8,1)),\n",
    "    sg.Button('Exit',key='-EXIT-',size=(8,1)),],\n",
    "    [sg.Button('Generate a Month',key='-GEN-',size=(24,1))\n",
    "    ],\n",
    "    [sg.Button('Generate a text Year',key='-GENYR-',size=(24,1))\n",
    "    ],\n",
    "    [sg.Button('Generate a colorful Year in HTML',key='-GENYRHTML-',size=(24,1))\n",
    "    ],]"
   ]
  },
  {
   "cell_type": "markdown",
   "metadata": {},
   "source": [
    "Load defaults in Layout with this function"
   ]
  },
  {
   "cell_type": "code",
   "execution_count": 4,
   "metadata": {},
   "outputs": [],
   "source": [
    "def DefaultValues(window1):\n",
    "    window1['-YR-'].update('2021')\n",
    "    window1['-MON-'].update('12')\n",
    "    window1['-OUT-'].update('')\n"
   ]
  },
  {
   "cell_type": "markdown",
   "metadata": {},
   "source": [
    "Create a GUI window and load defaults"
   ]
  },
  {
   "cell_type": "code",
   "execution_count": 5,
   "metadata": {},
   "outputs": [],
   "source": [
    "window = sg.Window('Dr. Santhosh Calendar Generator', layout, finalize=True)\n",
    "DefaultValues(window)"
   ]
  },
  {
   "cell_type": "markdown",
   "metadata": {},
   "source": [
    "Event loop\n"
   ]
  },
  {
   "cell_type": "code",
   "execution_count": 6,
   "metadata": {},
   "outputs": [],
   "source": [
    "\n",
    "while True:             # Event Loop\n",
    "    event, values = window.read()\n",
    "    \n",
    "    if event == sg.WIN_CLOSED or event == '-EXIT-':\n",
    "        window.close()\n",
    "        ## Change to exit() for windows\n",
    "        ## Sys exit for Android/PyDroid\n",
    "        #sys.exit()\n",
    "        break\n",
    "            \n",
    "    if event == '-CLEAR-':\n",
    "        DefaultValues(window)\n",
    "        continue\n",
    "            \n",
    "    if event == '-COPY-':\n",
    "        txt25=values['-OUT-']\n",
    "        if not txt25:continue\n",
    "        pyperclip.copy(txt25)\n",
    "        continue\n",
    "            \n",
    "    if event == '-GEN-':\n",
    "        s1=values['-YR-']\n",
    "        if not s1: continue\n",
    "        try:\n",
    "            year=int(s1)\n",
    "        except:\n",
    "            sg.popup('Please enter an Year')\n",
    "            DefaultValues(window)\n",
    "            continue\n",
    "        \n",
    "        s1=values['-MON-']\n",
    "        if not s1: continue\n",
    "        try: month=int(s1)\n",
    "        except:\n",
    "            sg.popup('Please enter an month 1 Jan  to 12 Dec ')\n",
    "            DefaultValues(window)\n",
    "            continue\n",
    "        \n",
    "        if month <=0 or month>12:\n",
    "            sg.popup('Please enter an month 1 Jan  to 12 Dec ')\n",
    "            DefaultValues(window)               \n",
    "            continue\n",
    "        \n",
    "        x1=calendar.month(year, month)\n",
    "        \n",
    "        txt1=values['-OUT-']\n",
    "        \n",
    "        if not txt1: \n",
    "            txt1=x1\n",
    "            \n",
    "        else:\n",
    "            txt1=f'{txt1} \\n\\n {x1}'\n",
    "        window['-OUT-'].update(txt1)  \n",
    "        continue\n",
    "                \n",
    "    if event == '-GENYR-':\n",
    "        s1=values['-YR-']\n",
    "        if not s1: continue\n",
    "        try: year=int(s1)\n",
    "        except:\n",
    "            sg.popup('Please enter an Year')\n",
    "            DefaultValues(window)\n",
    "            continue\n",
    "        cal=TextCalendar()\n",
    "        x1=cal.formatyear(theyear=year,w=2,l=1,c=6,m=1)\n",
    "        x1=f\"Calendar of the Year {year}\\n\\n {x1}\"\n",
    "        txt1=values['-OUT-']\n",
    "        if not txt1:\n",
    "            txt1=x1\n",
    "        else:\n",
    "            txt1=f'{txt1} \\n\\n {x1}'\n",
    "        window['-OUT-'].update(txt1)\n",
    "        fname=sg.popup_get_text('Enter name of Text file to save', title='Input Name', default_text=f'Calendar_{year}.txt')\n",
    "        if not fname: continue\n",
    "        with open(fname, 'w') as file:\n",
    "            file.writelines(txt1)\n",
    "            file.close()\n",
    "        continue      \n",
    "                #        calendar.HTMLCalendar(firstweekday=0)\n",
    "                # #       \n",
    "\n",
    "    if event == '-GENYRHTML-':\n",
    "        s1=values['-YR-']\n",
    "        if not s1: continue\n",
    "        try:\n",
    "            year=int(s1)\n",
    "        except:\n",
    "            sg.popup('Please enter an Year')\n",
    "            DefaultValues(window)\n",
    "            continue\n",
    "        cal=calendar.HTMLCalendar()\n",
    "        x1=cal.formatyear(year,1)\n",
    "        x2=f'<html><head><title>Calendar of the Year : {year} </title></head><body><p class=\"month\">Calendar of the Year : {year}<hr/></p><p>'\n",
    "        x2=x2+' <style>.month {background: #e8eaf6;} table {border-collapse: collapse; width: 100%;} th,td {text-align: left; padding: 10px;} tr:nth-child(even) { background-color: #7986cb;} tr:nth-child(odd) {background-color: #c5cae9;}</style>'\n",
    "        txt1=f'{x2} \\n\\n {x1} </p></body></html> '\n",
    "        txt1= txt1.replace('border=\"0\"', 'border=\"1\"')\n",
    "        txt1=txt1.replace('</table>', '</table> <hr/></p><p>')\n",
    "        #sg.popup(txt1)\n",
    "        window['-OUT-'].update(txt1)\n",
    "        fname=sg.popup_get_text('Enter name of colorful HTML file to save', title='Input Name', default_text=f'Calendar_{year}.htm')\n",
    "        if not fname: continue\n",
    "        with open(fname, 'w') as file:\n",
    "            file.writelines(txt1)\n",
    "            file.close()\n",
    "        continue\n",
    "    \n",
    "window.close()"
   ]
  },
  {
   "cell_type": "markdown",
   "metadata": {},
   "source": [
    "Ignore the exit error here... Then Android version does not quit with exit() function\n",
    "\n",
    "---"
   ]
  }
 ],
 "metadata": {
  "kernelspec": {
   "display_name": "Python 3.10.4 64-bit",
   "language": "python",
   "name": "python3"
  },
  "language_info": {
   "codemirror_mode": {
    "name": "ipython",
    "version": 3
   },
   "file_extension": ".py",
   "mimetype": "text/x-python",
   "name": "python",
   "nbconvert_exporter": "python",
   "pygments_lexer": "ipython3",
   "version": "3.10.4"
  },
  "orig_nbformat": 4,
  "vscode": {
   "interpreter": {
    "hash": "369f2c481f4da34e4445cda3fffd2e751bd1c4d706f27375911949ba6bb62e1c"
   }
  }
 },
 "nbformat": 4,
 "nbformat_minor": 2
}
